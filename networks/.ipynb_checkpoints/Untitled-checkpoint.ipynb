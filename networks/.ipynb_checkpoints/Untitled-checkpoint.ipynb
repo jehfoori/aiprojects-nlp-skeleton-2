{
 "cells": [
  {
   "cell_type": "code",
   "execution_count": 1,
   "id": "a7da780c",
   "metadata": {},
   "outputs": [],
   "source": [
    "import torch\n",
    "import torch.nn as nn"
   ]
  },
  {
   "cell_type": "code",
   "execution_count": 7,
   "id": "527a62c6",
   "metadata": {},
   "outputs": [],
   "source": [
    "class StartingNetwork(torch.nn.Module):\n",
    "    \"\"\"\n",
    "    Network\n",
    "    \"\"\"\n",
    "\n",
    "    def __init__(self, embedding_dim, hidden_dim, vocab_size, output_size, num_layers):\n",
    "        super().__init__()\n",
    "\n",
    "        self.hidden_dim = hidden_dim\n",
    "        self.num_layers = num_layers\n",
    "\n",
    "        # self.embeddings = nn.Embedding(vocab_size, embedding_dim)\n",
    "        # REPLACE this with our own embeddings!\n",
    "\n",
    "        # LSTM taking word embeddings as inputs and outputting hidden states\n",
    "        # with dimensionality hidden_dim.\n",
    "        self.lstm = nn.LSTM(embedding_dim, hidden_dim, num_layers, bidirectional=True)\n",
    "        # optional: dropout\n",
    "\n",
    "        # Linear layer maps from hidden state space to output space\n",
    "        self.fc = nn.Linear(hidden_dim, output_size)\n",
    "\n",
    "    def forward(self, x, prev_state):\n",
    "        # embeds = self.embeddings(x)\n",
    "        output, state = self.lstm(embeds, prev_state)\n",
    "        logits = self.fc(output)\n",
    "        return F.softmax(logits), state"
   ]
  },
  {
   "cell_type": "code",
   "execution_count": 8,
   "id": "b3cab533",
   "metadata": {},
   "outputs": [
    {
     "data": {
      "text/plain": [
       "StartingNetwork(\n",
       "  (lstm): LSTM(1024, 750, num_layers=3, bidirectional=True)\n",
       "  (fc): Linear(in_features=750, out_features=2, bias=True)\n",
       ")"
      ]
     },
     "execution_count": 8,
     "metadata": {},
     "output_type": "execute_result"
    }
   ],
   "source": [
    "model = StartingNetwork(1024, 750, 1000000, 2, 3)\n",
    "model"
   ]
  }
 ],
 "metadata": {
  "kernelspec": {
   "display_name": "Python 3 (ipykernel)",
   "language": "python",
   "name": "python3"
  },
  "language_info": {
   "codemirror_mode": {
    "name": "ipython",
    "version": 3
   },
   "file_extension": ".py",
   "mimetype": "text/x-python",
   "name": "python",
   "nbconvert_exporter": "python",
   "pygments_lexer": "ipython3",
   "version": "3.9.10"
  }
 },
 "nbformat": 4,
 "nbformat_minor": 5
}
